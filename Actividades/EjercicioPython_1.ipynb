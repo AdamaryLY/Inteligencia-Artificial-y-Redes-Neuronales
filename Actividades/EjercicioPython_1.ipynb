{
  "nbformat": 4,
  "nbformat_minor": 0,
  "metadata": {
    "colab": {
      "provenance": []
    },
    "kernelspec": {
      "name": "python3",
      "display_name": "Python 3"
    },
    "language_info": {
      "name": "python"
    }
  },
  "cells": [
    {
      "cell_type": "code",
      "execution_count": null,
      "metadata": {
        "id": "v0DT3bwi-lQj"
      },
      "outputs": [],
      "source": []
    },
    {
      "cell_type": "markdown",
      "source": [
        "Actividad 2: Diseño de algoritmos en Phyton Adamary Luna Yepez 2006566 N1\n"
      ],
      "metadata": {
        "id": "MjNCsK7c-mVV"
      }
    },
    {
      "cell_type": "code",
      "source": [
        "import datetime\n",
        "\n",
        "hora_actual = datetime.datetime.now(datetime.timezone(datetime.timedelta(hours=-6))).time()\n",
        "\n",
        "nombres_invalidos = [\"Pedro\", \"PEDRO\", 'pedro', 'Ana', 'ana', 'ANA', 'Juan', 'juan', 'JUAN']\n",
        "\n",
        "name = input(\"Por favor, ingresa tu nombre de pila: \")\n",
        "\n",
        "if name in nombres_invalidos:\n",
        "  print(\"\")\n",
        "elif name == \" \" or name == \"\":\n",
        "  print(\"Perdón, no obtuve tu nombre.\")\n",
        "else:\n",
        "  if hora_actual < datetime.time(hour = 11, minute = 59) and hora_actual > datetime.time(hour = 5, minute = 0):\n",
        "    print(\"¡Buenos días, \" + name + \"!\")\n",
        "  elif hora_actual < datetime.time(hour = 18, minute = 0) and hora_actual > datetime.time(hour = 12, minute = 0):\n",
        "    print(\"¡Buenas tardes, \" + name + \"!\")\n",
        "  else:\n",
        "    print(\"¡Buenas noches, \" + name + \"!\")\n",
        "\n"
      ],
      "metadata": {
        "colab": {
          "base_uri": "https://localhost:8080/"
        },
        "id": "dSWCnH3b-yax",
        "outputId": "24113f25-9d2c-45d1-d05c-255aa6f9ee45"
      },
      "execution_count": null,
      "outputs": [
        {
          "output_type": "stream",
          "name": "stdout",
          "text": [
            "Por favor, ingresa tu nombre de pila: Alejandro\n",
            "¡Buenas noches, Alejandro!\n"
          ]
        }
      ]
    },
    {
      "cell_type": "code",
      "source": [
        "import datetime\n",
        "hora_2 = datetime.datetime.now(datetime.timezone(datetime.timedelta(hours=-6))).time()\n",
        "\n",
        "if hora_2 < datetime.time(hour = 11, minute = 59, second =59) and hora_2 > datetime.time(hour = 5, minute = 0):\n",
        "    num1 = int(input(\"Buenos días, por favor, ingrese el tamaño de su lista: \"))\n",
        "elif hora_2 < datetime.time(hour = 18, minute = 0) and hora_2 > datetime.time(hour = 12, minute = 0):\n",
        "    num1 = int(input(\"Buenas tardes, por favor, ingrese el tamaño de su lista: \"))\n",
        "else:\n",
        "    num1 = int(input(\"Buenas noches, por favor, ingrese el tamaño de su lista: \"))\n",
        "\n",
        "elem1 = []\n",
        "x = 0\n",
        "\n",
        "while x < num1:\n",
        "  x += 1\n",
        "  a1 = input(\"Por favor, deme uno de sus elementos: \")\n",
        "  elem1.append(a1)\n",
        "\n",
        "elem1.reverse()\n",
        "print(elem1)"
      ],
      "metadata": {
        "colab": {
          "base_uri": "https://localhost:8080/"
        },
        "id": "OokOYux8_H28",
        "outputId": "f1821f18-d1a6-4afa-f100-cc5bf9f250ff"
      },
      "execution_count": null,
      "outputs": [
        {
          "output_type": "stream",
          "name": "stdout",
          "text": [
            "Buenas noches, por favor, ingrese el tamaño de su lista: 4\n",
            "Por favor, deme uno de sus elementos: agua\n",
            "Por favor, deme uno de sus elementos: coca\n",
            "Por favor, deme uno de sus elementos: jugo\n",
            "Por favor, deme uno de sus elementos: cafe\n",
            "['cafe', 'jugo', 'coca', 'agua']\n"
          ]
        }
      ]
    },
    {
      "cell_type": "code",
      "source": [
        "print(\"¡Buen día!\")\n",
        "numf = int(input(\"Por favor, ingrese la cantidad de números de la serie de Fibonacci que quiera obtener: \"))\n",
        "\n",
        "x, y = 0, 1\n",
        "\n",
        "print(\"Aquí tiene su resultado de\", numf, \"números de la serie de fibonacci:\")\n",
        "if numf == 1:\n",
        "  print(x)\n",
        "elif numf == 2:\n",
        "  print(x)\n",
        "  print(y)\n",
        "else:\n",
        "  print(x)\n",
        "  for i in range(numf-1):\n",
        "   x, y = y, x + y\n",
        "   print(x)"
      ],
      "metadata": {
        "colab": {
          "base_uri": "https://localhost:8080/"
        },
        "id": "xIuRQYXX8Gm0",
        "outputId": "b54e24f8-27fb-4614-8da1-7070ce65010e"
      },
      "execution_count": null,
      "outputs": [
        {
          "output_type": "stream",
          "name": "stdout",
          "text": [
            "¡Buen día!\n",
            "Por favor, ingrese la cantidad de números de la serie de Fibonacci que quiera obtener: 18\n",
            "Aquí tiene su resultado de 18 números de la serie de fibonacci:\n",
            "0\n",
            "1\n",
            "1\n",
            "2\n",
            "3\n",
            "5\n",
            "8\n",
            "13\n",
            "21\n",
            "34\n",
            "55\n",
            "89\n",
            "144\n",
            "233\n",
            "377\n",
            "610\n",
            "987\n",
            "1597\n"
          ]
        }
      ]
    },
    {
      "cell_type": "code",
      "source": [
        "import random\n",
        "\n",
        "print(\"¡Bienvenido al juego de adivinación de números! \")\n",
        "print(\"Instrucciones: \")\n",
        "print(\"1. La casa seleccionará un número al azar entre el 0 y el 100, el cuál, es tu misión adivinar.\")\n",
        "print(\"2. Deberás ingresar sólamente números, evita utilizar algún otro caracter.\")\n",
        "print(\"3. Al ingresar un número, este será «gratuito», a partir del segundo número ingresado se comenzarán a contar los intentos.\")\n",
        "print(\"4. ¡No te preocupes! La casa te dará pistas si el número correcto es menor o mayor al que has ingresado.\")\n",
        "print(\"\\n\" + \"¿Listo?\" + \"\\n\" + \"¡Adelante!\" + \"\\n\")\n",
        "\n",
        "intentos = 0\n",
        "numr = random.randrange(0, 101, 1)\n",
        "\n",
        "if numr % 2 == 0:\n",
        "    numispar = True\n",
        "elif numr % 2 == 1:\n",
        "    numispar = False\n",
        "\n",
        "numing = int(input(\"Por favor, ingrese un número inicial: \"))\n",
        "while numing != numr:\n",
        "  intentos += 1\n",
        "  if numing > numr and intentos < 5:\n",
        "    print(\"El número que buscas es menor al que has ingresado.\")\n",
        "  elif numing < numr and intentos < 5:\n",
        "    print(\"El número a conseguir es mayor al que has ingresado.\")\n",
        "  elif numing > numr and numispar == True:\n",
        "    print(\"El número que buscas es menor al que has ingresado y es un número par.\")\n",
        "  elif numing > numr and numispar == False:\n",
        "    print(\"El número que buscas es menor al que has ingresado y es impar.\")\n",
        "  elif numing < numr and numispar == True:\n",
        "    print(\"El número a conseguir es mayor al que has ingresado y es un número par.\")\n",
        "  elif numing < numr and numispar == False:\n",
        "    print(\"El número a conseguir es mayor al que has ingresado, además es impar.\")\n",
        "  numing = int(input(\"Por favor, inténtalo de nuevo: \"))\n",
        "\n",
        "if numing == numr:\n",
        "  if intentos < 4:\n",
        "    print(\"🎉¡Felicidades, has adivinado el número correctamente muy rápido! Apuesto a que eres un mago digno de Hogwarts, ¡sigue así! 🎉\")\n",
        "  else:\n",
        "    print(\"¡Felicidades!, has logrado adivinar el número de forma correcta! Te ha tomado:\", intentos, \"intentos. No está mal :)\")\n"
      ],
      "metadata": {
        "colab": {
          "base_uri": "https://localhost:8080/"
        },
        "id": "XC6Wp-_ABB5Y",
        "outputId": "6d59d924-46ac-462f-d61a-4b54e5c9a514"
      },
      "execution_count": 14,
      "outputs": [
        {
          "output_type": "stream",
          "name": "stdout",
          "text": [
            "¡Bienvenido al juego de adivinación de números! \n",
            "Instrucciones: \n",
            "1. La casa seleccionará un número al azar entre el 0 y el 100, el cuál, es tu misión adivinar.\n",
            "2. Deberás ingresar sólamente números, evita utilizar algún otro caracter.\n",
            "3. Al ingresar un número, este será «gratuito», a partir del segundo número ingresado se comenzarán a contar los intentos.\n",
            "4. ¡No te preocupes! La casa te dará pistas si el número correcto es menor o mayor al que has ingresado.\n",
            "\n",
            "¿Listo?\n",
            "¡Adelante!\n",
            "\n",
            "Por favor, ingrese un número inicial: 74\n",
            "El número que buscas es menor al que has ingresado.\n",
            "Por favor, inténtalo de nuevo: 52\n",
            "El número a conseguir es mayor al que has ingresado.\n",
            "Por favor, inténtalo de nuevo: 64\n",
            "El número a conseguir es mayor al que has ingresado.\n",
            "Por favor, inténtalo de nuevo: 68\n",
            "El número a conseguir es mayor al que has ingresado.\n",
            "Por favor, inténtalo de nuevo: 72\n",
            "El número que buscas es menor al que has ingresado y es impar.\n",
            "Por favor, inténtalo de nuevo: 70\n",
            "El número que buscas es menor al que has ingresado y es impar.\n",
            "Por favor, inténtalo de nuevo: 69\n",
            "¡Felicidades!, has logrado adivinar el número de forma correcta! Te ha tomado: 6 intentos. No está mal :)\n"
          ]
        }
      ]
    },
    {
      "cell_type": "code",
      "source": [
        "print(\"¡Buen día!\" + \"\\n\" + \"Este programa tiene como finalidad mostrar los números primos dentro de un rango que de la forma más atenta se le pide.\" + \"\\n\")\n",
        "rang_min = int(input(\"Por favor, ingrese el valor mínimo del rango de números que quiera que se le muestre: \"))\n",
        "rang_max = int(input(\"Por favor, ingrese ahora el valor máximo del rango: \"))\n",
        "print(\"\\n\" + \"Aquí se muestran los números primos dentro del rango establecido:\")\n",
        "\n",
        "def es_primo(num):\n",
        "    if num < 2:\n",
        "        return False\n",
        "    for i in range(2, int(num**0.5) + 1):\n",
        "        if num % i == 0:\n",
        "            return False\n",
        "    return True\n",
        "\n",
        "for i in range(rang_min, rang_max + 1):\n",
        "    if es_primo(i):\n",
        "        print(i)\n",
        ""
      ],
      "metadata": {
        "id": "DUNanfMZBCSl",
        "colab": {
          "base_uri": "https://localhost:8080/"
        },
        "outputId": "04f521f5-9bc6-4633-b54c-edfaea80f065"
      },
      "execution_count": 15,
      "outputs": [
        {
          "output_type": "stream",
          "name": "stdout",
          "text": [
            "¡Buen día!\n",
            "Este programa tiene como finalidad mostrar los números primos dentro de un rango que de la forma más atenta se le pide.\n",
            "\n",
            "Por favor, ingrese el valor mínimo del rango de números que quiera que se le muestre: 10\n",
            "Por favor, ingrese ahora el valor máximo del rango: 54\n",
            "\n",
            "Aquí se muestran los números primos dentro del rango establecido:\n",
            "11\n",
            "13\n",
            "17\n",
            "19\n",
            "23\n",
            "29\n",
            "31\n",
            "37\n",
            "41\n",
            "43\n",
            "47\n",
            "53\n"
          ]
        }
      ]
    },
    {
      "cell_type": "code",
      "source": [
        "add = [\"1\", \"suma\", \"sum\", \"adicion\", \"adición\", \"Suma\", \"Adición\", \"Adicion\", \"+\"]\n",
        "sust = [\"2\", \"resta\", \"res\", \"sustraccion\", \"sustracción\", \"Resta\", \"Sustraccion\", \"Sustracción\", \"-\"]\n",
        "mult = [\"3\", \"multiplicacion\", \"multiplicación\", \"mult\", \"Multiplicación\", \"Multiplicacion\", \"Mult\", \"*\"]\n",
        "divi = [\"4\", \"division\", \"división\", \"div\", \"razon\", \"razón\", \"División\", \"Division\", \"Div\", \"Razon\", \"Razón\", \"/\"]\n",
        "\n",
        "def sum(num1, num2):\n",
        "  num1 += num2\n",
        "  return num1\n",
        "\n",
        "def rest(num1, num2):\n",
        "  return num1 - num2\n",
        "\n",
        "def multp(num1, num2):\n",
        "  num1 *= num2\n",
        "  return num1\n",
        "def div(num1, num2):\n",
        "  if num2 != 0:\n",
        "    return num1 / num2\n",
        "  else:\n",
        "    return \"Error: No se puede dividir por cero\"\n",
        "def main():\n",
        "  print(\"Bienvenido a su calculadora de funciones básicas\")\n",
        "  print(\"1. Suma (+)\")\n",
        "  print(\"2. Resta (-)\")\n",
        "  print(\"3. Multiplicación (*)\")\n",
        "  print(\"4. División (/)\")\n",
        "  eleccion1 = input(\"Por favor, selecciona la función que se requiera utilizar: \")\n",
        "  print(\"\\n\")\n",
        "\n",
        "  if eleccion1 in add:\n",
        "    x_sum = int(input(\"Por favor, indique con números la cantidad de valores a sumar: \"))\n",
        "    num1 = 0\n",
        "    for i in range(x_sum):\n",
        "      num1 = sum(num1, float(input(\"Indique el valor que requiera sumar: \")))\n",
        "    print(\"Este es el resultado de tu suma: \", num1)\n",
        "  elif eleccion1 in sust:\n",
        "    num1 = float(input(\"Por favor, ingrese el minuendo de su resta: \"))\n",
        "    num2 = float(input(\"De la manera más atenta, ingrese el sustraendo de su resta: \"))\n",
        "    print(\"Aquí tiene el resultado de su resta: \", rest(num1, num2))\n",
        "  elif eleccion1 in mult:\n",
        "    x_mul = int(input(\"Por favor, indique con números la cantidad de valores que quiera multiplicar entre ellos: \"))\n",
        "    num1 = 1\n",
        "    for i in range(x_mul):\n",
        "      num1 = multp(num1, float(input(\"Indique el valor que quiera multiplicar: \")))\n",
        "    print(\"Este es el resultado de tu multiplicación: \", num1)\n",
        "  elif eleccion1 in divi:\n",
        "    num1 = float(input(\"Por favor, ingrese el dividendo de su razon: \"))\n",
        "    num2 = float(input(\"De la manera más atenta, ahora ingrese el divisor: \"))\n",
        "    print(\"Aquí tiene el resultado de su división: \", div(num1, num2))\n",
        "\n",
        "    main()\n"
      ],
      "metadata": {
        "id": "xOw1NQ8LBCbA"
      },
      "execution_count": 23,
      "outputs": []
    }
  ]
}